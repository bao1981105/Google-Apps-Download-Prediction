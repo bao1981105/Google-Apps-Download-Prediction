{
 "cells": [
  {
   "cell_type": "code",
   "execution_count": 1,
   "metadata": {},
   "outputs": [
    {
     "name": "stdout",
     "output_type": "stream",
     "text": [
      "Requirement already satisfied: xgboost in /anaconda3/lib/python3.7/site-packages (0.90)\n",
      "Requirement already satisfied: scipy in /anaconda3/lib/python3.7/site-packages (from xgboost) (1.3.0)\n",
      "Requirement already satisfied: numpy in /anaconda3/lib/python3.7/site-packages (from xgboost) (1.16.4)\n",
      "Note: you may need to restart the kernel to use updated packages.\n"
     ]
    }
   ],
   "source": [
    "pip install xgboost"
   ]
  },
  {
   "cell_type": "code",
   "execution_count": 2,
   "metadata": {},
   "outputs": [],
   "source": [
    "import pandas as pd\n",
    "import numpy as np\n",
    "from mcar import mcar_test\n",
    "from preprocess import preprocess"
   ]
  },
  {
   "cell_type": "code",
   "execution_count": 3,
   "metadata": {},
   "outputs": [
    {
     "data": {
      "text/html": [
       "<div>\n",
       "<style scoped>\n",
       "    .dataframe tbody tr th:only-of-type {\n",
       "        vertical-align: middle;\n",
       "    }\n",
       "\n",
       "    .dataframe tbody tr th {\n",
       "        vertical-align: top;\n",
       "    }\n",
       "\n",
       "    .dataframe thead th {\n",
       "        text-align: right;\n",
       "    }\n",
       "</style>\n",
       "<table border=\"1\" class=\"dataframe\">\n",
       "  <thead>\n",
       "    <tr style=\"text-align: right;\">\n",
       "      <th></th>\n",
       "      <th>App</th>\n",
       "      <th>Category</th>\n",
       "      <th>Rating</th>\n",
       "      <th>Reviews</th>\n",
       "      <th>Size</th>\n",
       "      <th>Installs</th>\n",
       "      <th>Type</th>\n",
       "      <th>Price</th>\n",
       "      <th>Content Rating</th>\n",
       "      <th>Genres</th>\n",
       "      <th>Last Updated</th>\n",
       "      <th>Current Ver</th>\n",
       "      <th>Android Ver</th>\n",
       "    </tr>\n",
       "  </thead>\n",
       "  <tbody>\n",
       "    <tr>\n",
       "      <th>0</th>\n",
       "      <td>Photo Editor &amp; Candy Camera &amp; Grid &amp; ScrapBook</td>\n",
       "      <td>ART_AND_DESIGN</td>\n",
       "      <td>4.1</td>\n",
       "      <td>159</td>\n",
       "      <td>19M</td>\n",
       "      <td>10,000+</td>\n",
       "      <td>Free</td>\n",
       "      <td>0</td>\n",
       "      <td>Everyone</td>\n",
       "      <td>Art &amp; Design</td>\n",
       "      <td>7-Jan-18</td>\n",
       "      <td>1.0.0</td>\n",
       "      <td>4.0.3 and up</td>\n",
       "    </tr>\n",
       "    <tr>\n",
       "      <th>1</th>\n",
       "      <td>Coloring book moana</td>\n",
       "      <td>ART_AND_DESIGN</td>\n",
       "      <td>3.9</td>\n",
       "      <td>967</td>\n",
       "      <td>14M</td>\n",
       "      <td>500,000+</td>\n",
       "      <td>Free</td>\n",
       "      <td>0</td>\n",
       "      <td>Everyone</td>\n",
       "      <td>Art &amp; Design;Pretend Play</td>\n",
       "      <td>15-Jan-18</td>\n",
       "      <td>2.0.0</td>\n",
       "      <td>4.0.3 and up</td>\n",
       "    </tr>\n",
       "    <tr>\n",
       "      <th>2</th>\n",
       "      <td>U Launcher Lite – FREE Live Cool Themes, Hide ...</td>\n",
       "      <td>ART_AND_DESIGN</td>\n",
       "      <td>4.7</td>\n",
       "      <td>87510</td>\n",
       "      <td>8.7M</td>\n",
       "      <td>5,000,000+</td>\n",
       "      <td>Free</td>\n",
       "      <td>0</td>\n",
       "      <td>Everyone</td>\n",
       "      <td>Art &amp; Design</td>\n",
       "      <td>1-Aug-18</td>\n",
       "      <td>1.2.4</td>\n",
       "      <td>4.0.3 and up</td>\n",
       "    </tr>\n",
       "    <tr>\n",
       "      <th>3</th>\n",
       "      <td>Sketch - Draw &amp; Paint</td>\n",
       "      <td>ART_AND_DESIGN</td>\n",
       "      <td>4.5</td>\n",
       "      <td>215644</td>\n",
       "      <td>25M</td>\n",
       "      <td>50,000,000+</td>\n",
       "      <td>Free</td>\n",
       "      <td>0</td>\n",
       "      <td>Teen</td>\n",
       "      <td>Art &amp; Design</td>\n",
       "      <td>8-Jun-18</td>\n",
       "      <td>Varies with device</td>\n",
       "      <td>4.2 and up</td>\n",
       "    </tr>\n",
       "    <tr>\n",
       "      <th>4</th>\n",
       "      <td>Pixel Draw - Number Art Coloring Book</td>\n",
       "      <td>ART_AND_DESIGN</td>\n",
       "      <td>4.3</td>\n",
       "      <td>967</td>\n",
       "      <td>2.8M</td>\n",
       "      <td>100,000+</td>\n",
       "      <td>Free</td>\n",
       "      <td>0</td>\n",
       "      <td>Everyone</td>\n",
       "      <td>Art &amp; Design;Creativity</td>\n",
       "      <td>20-Jun-18</td>\n",
       "      <td>1.1</td>\n",
       "      <td>4.4 and up</td>\n",
       "    </tr>\n",
       "  </tbody>\n",
       "</table>\n",
       "</div>"
      ],
      "text/plain": [
       "                                                 App        Category  Rating  \\\n",
       "0     Photo Editor & Candy Camera & Grid & ScrapBook  ART_AND_DESIGN     4.1   \n",
       "1                                Coloring book moana  ART_AND_DESIGN     3.9   \n",
       "2  U Launcher Lite – FREE Live Cool Themes, Hide ...  ART_AND_DESIGN     4.7   \n",
       "3                              Sketch - Draw & Paint  ART_AND_DESIGN     4.5   \n",
       "4              Pixel Draw - Number Art Coloring Book  ART_AND_DESIGN     4.3   \n",
       "\n",
       "   Reviews  Size     Installs  Type Price Content Rating  \\\n",
       "0      159   19M      10,000+  Free     0       Everyone   \n",
       "1      967   14M     500,000+  Free     0       Everyone   \n",
       "2    87510  8.7M   5,000,000+  Free     0       Everyone   \n",
       "3   215644   25M  50,000,000+  Free     0           Teen   \n",
       "4      967  2.8M     100,000+  Free     0       Everyone   \n",
       "\n",
       "                      Genres Last Updated         Current Ver   Android Ver  \n",
       "0               Art & Design     7-Jan-18               1.0.0  4.0.3 and up  \n",
       "1  Art & Design;Pretend Play    15-Jan-18               2.0.0  4.0.3 and up  \n",
       "2               Art & Design     1-Aug-18               1.2.4  4.0.3 and up  \n",
       "3               Art & Design     8-Jun-18  Varies with device    4.2 and up  \n",
       "4    Art & Design;Creativity    20-Jun-18                 1.1    4.4 and up  "
      ]
     },
     "execution_count": 3,
     "metadata": {},
     "output_type": "execute_result"
    }
   ],
   "source": [
    "df = pd.read_csv('../data/googleplaystore.csv')\n",
    "df2 = pd.read_csv('../data/googleplaystore_user_reviews.csv')\n",
    "df.head()"
   ]
  },
  {
   "cell_type": "code",
   "execution_count": 4,
   "metadata": {},
   "outputs": [
    {
     "data": {
      "text/plain": [
       "0.0"
      ]
     },
     "execution_count": 4,
     "metadata": {},
     "output_type": "execute_result"
    }
   ],
   "source": [
    "df_temp = preprocess(df,df2)\n",
    "mcar_test(df_temp[['Rating','Size']])"
   ]
  },
  {
   "cell_type": "code",
   "execution_count": 16,
   "metadata": {},
   "outputs": [],
   "source": [
    "import warnings\n",
    "warnings.filterwarnings(\"ignore\")\n",
    "from sklearn.model_selection import GridSearchCV\n",
    "from sklearn.metrics import make_scorer\n",
    "from sklearn.model_selection import train_test_split\n",
    "from sklearn.model_selection import StratifiedKFold\n",
    "from sklearn.preprocessing import StandardScaler\n",
    "from sklearn.preprocessing import MinMaxScaler\n",
    "from sklearn.svm import SVC\n",
    "from sklearn.metrics import accuracy_score\n",
    "from sklearn.preprocessing import OneHotEncoder\n",
    "from sklearn.preprocessing import OrdinalEncoder\n",
    "from sklearn.linear_model import LogisticRegression\n",
    "from sklearn.pipeline import Pipeline\n",
    "from sklearn.compose import ColumnTransformer\n",
    "from sklearn.ensemble import RandomForestClassifier\n",
    "from sklearn.experimental import enable_iterative_imputer\n",
    "from sklearn.impute import IterativeImputer\n",
    "from sklearn.ensemble import RandomForestRegressor\n",
    "from sklearn.decomposition import PCA\n",
    "from sklearn.neighbors import KNeighborsClassifier\n",
    "import xgboost\n",
    "from sklearn.model_selection import ParameterGrid\n",
    "cont_frs = ['Reviews','Size','Price','Last Updated','Num_of_Characters','Rating']\n",
    "cat_frs_onehot = ['Category','Current_Ver_truncated','Android_Ver_truncated']\n",
    "cat_frs_ordinal = ['Type','Content Rating']"
   ]
  },
  {
   "cell_type": "code",
   "execution_count": 6,
   "metadata": {},
   "outputs": [
    {
     "name": "stdout",
     "output_type": "stream",
     "text": [
      "0.0    0.324992\n",
      "1.0    0.270293\n",
      "3.0    0.205770\n",
      "2.0    0.198945\n",
      "Name: Installs, dtype: float64\n",
      "balance: 0.32499224485575434\n"
     ]
    }
   ],
   "source": [
    "X = df_temp.drop(['Installs'], axis=1)\n",
    "y = df_temp['Installs']\n",
    "print(y.value_counts()/len(y))\n",
    "classes, counts = np.unique(y,return_counts=True)\n",
    "print('balance:',np.max(counts/len(y)))"
   ]
  },
  {
   "cell_type": "code",
   "execution_count": 9,
   "metadata": {},
   "outputs": [],
   "source": [
    "def preprocess_with_impute(X,y,random_state,n_folds):\n",
    "    '''\n",
    "    \n",
    "    '''\n",
    "    X_other, X_test, y_other, y_test = train_test_split(X, y, test_size=0.2, random_state = random_state,stratify=y)\n",
    "    kf = StratifiedKFold(n_splits=5,shuffle=True,random_state=random_state)\n",
    "    imputer = IterativeImputer(estimator = RandomForestRegressor(),random_state=random_state)\n",
    "    standard_transformer = Pipeline(steps=[('imputer', imputer),('standard', StandardScaler())])\n",
    "    onehot_transformer = Pipeline(steps=[('onehot', OneHotEncoder(sparse=False,handle_unknown='ignore'))])\n",
    "    ordinal_transformer1 = Pipeline(steps=[('ordinal1', OrdinalEncoder(categories = [['Free','Paid']]))])\n",
    "    ordinal_transformer2 = Pipeline(steps=[('ordinal2', OrdinalEncoder(categories = [['Everyone', 'Everyone 10+', 'Teen', 'Mature 17+', 'Adults only 18+','Unrated']]))])\n",
    "    preprocessor = ColumnTransformer(\n",
    "    transformers=[\n",
    "        ('standard', standard_transformer, cont_frs),\n",
    "        ('ordinal1',ordinal_transformer1,['Type']),\n",
    "        ('ordinal2',ordinal_transformer2,['Content Rating']),\n",
    "        ('onehot', onehot_transformer, cat_frs_onehot)])\n",
    "    return X_other, X_test, y_other, y_test, kf, preprocessor\n",
    "\n",
    "def ML_pipeline_rf_GridSearchCV(X_other, X_test, y_other, y_test, kf, preprocessor, random_state):\n",
    "    rf = Pipeline(steps=[('preprocessor', preprocessor),\n",
    "                          ('classifier', RandomForestClassifier())])\n",
    "    param_grid = { \n",
    "    'classifier__max_features': ['auto'],\n",
    "    'classifier__max_depth' : range(30,65,5),\n",
    "    'classifier__min_samples_split' : range(2,6),\n",
    "    'classifier__n_estimators' : [100],\n",
    "    'classifier__random_state' : [random_state]}\n",
    "    grid = GridSearchCV(rf, param_grid=param_grid,scoring = make_scorer(accuracy_score),\n",
    "                        cv=kf, return_train_score = True,iid=True)\n",
    "    grid.fit(X_other, y_other)\n",
    "    return grid, grid.score(X_test, y_test)"
   ]
  },
  {
   "cell_type": "code",
   "execution_count": 10,
   "metadata": {},
   "outputs": [
    {
     "name": "stdout",
     "output_type": "stream",
     "text": [
      "{'classifier__max_depth': 35, 'classifier__max_features': 'auto', 'classifier__min_samples_split': 4, 'classifier__n_estimators': 100, 'classifier__random_state': 42}\n",
      "test score: 0.8408268733850129\n",
      "{'classifier__max_depth': 50, 'classifier__max_features': 'auto', 'classifier__min_samples_split': 3, 'classifier__n_estimators': 100, 'classifier__random_state': 84}\n",
      "test score: 0.8501291989664083\n",
      "{'classifier__max_depth': 60, 'classifier__max_features': 'auto', 'classifier__min_samples_split': 5, 'classifier__n_estimators': 100, 'classifier__random_state': 126}\n",
      "test score: 0.841343669250646\n",
      "{'classifier__max_depth': 45, 'classifier__max_features': 'auto', 'classifier__min_samples_split': 4, 'classifier__n_estimators': 100, 'classifier__random_state': 168}\n",
      "test score: 0.8434108527131783\n",
      "{'classifier__max_depth': 50, 'classifier__max_features': 'auto', 'classifier__min_samples_split': 4, 'classifier__n_estimators': 100, 'classifier__random_state': 210}\n",
      "test score: 0.8366925064599483\n",
      "{'classifier__max_depth': 55, 'classifier__max_features': 'auto', 'classifier__min_samples_split': 5, 'classifier__n_estimators': 100, 'classifier__random_state': 252}\n",
      "test score: 0.8397932816537468\n",
      "{'classifier__max_depth': 45, 'classifier__max_features': 'auto', 'classifier__min_samples_split': 4, 'classifier__n_estimators': 100, 'classifier__random_state': 294}\n",
      "test score: 0.8444444444444444\n",
      "{'classifier__max_depth': 45, 'classifier__max_features': 'auto', 'classifier__min_samples_split': 5, 'classifier__n_estimators': 100, 'classifier__random_state': 336}\n",
      "test score: 0.8521963824289406\n",
      "test accuracy: 0.844 +/- 0.005\n"
     ]
    }
   ],
   "source": [
    "test_scores_rf = []\n",
    "for i in range(8):\n",
    "    random_state = (i + 1) * 42\n",
    "    X_other, X_test, y_other, y_test, kf, preprocessor = preprocess_with_impute(X,y,random_state = random_state,n_folds=5)\n",
    "    grid, test_score = ML_pipeline_rf_GridSearchCV(X_other, X_test, y_other, y_test, kf, preprocessor, random_state)\n",
    "    print(grid.best_params_)\n",
    "    print('test score:',test_score)\n",
    "    test_scores_rf.append(test_score)\n",
    "print('test accuracy:',np.around(np.mean(test_scores_rf),3),'+/-',np.around(np.std(test_scores_rf),3))"
   ]
  },
  {
   "cell_type": "code",
   "execution_count": 11,
   "metadata": {},
   "outputs": [],
   "source": [
    "def ML_pipeline_svc_GridSearchCV(X_other, X_test, y_other, y_test, kf, preprocessor, random_state):\n",
    "    estimators = Pipeline([('reduce_dim', PCA()), ('clf', SVC())])\n",
    "    svc = Pipeline(steps=[('preprocessor', preprocessor),\n",
    "                          ('classifier', estimators)])\n",
    "    Cs = np.logspace(3,7,5)\n",
    "    γs = np.logspace(-4,2,3)\n",
    "    param_grid = { \n",
    "    'classifier__reduce_dim__n_components': [25],\n",
    "    'classifier__clf__C': Cs,\n",
    "    'classifier__clf__gamma' : γs}\n",
    "    grid = GridSearchCV(svc, param_grid=param_grid,scoring = make_scorer(accuracy_score),\n",
    "                        cv=kf, return_train_score = True,iid=True,n_jobs=-1)\n",
    "    grid.fit(X_other, y_other)\n",
    "    return grid, grid.score(X_test, y_test)"
   ]
  },
  {
   "cell_type": "code",
   "execution_count": 12,
   "metadata": {},
   "outputs": [
    {
     "name": "stdout",
     "output_type": "stream",
     "text": [
      "{'classifier__clf__C': 1000000.0, 'classifier__clf__gamma': 0.0001, 'classifier__reduce_dim__n_components': 25}\n",
      "test score: 0.661498708010336\n",
      "{'classifier__clf__C': 1000000.0, 'classifier__clf__gamma': 0.0001, 'classifier__reduce_dim__n_components': 25}\n",
      "test score: 0.6723514211886304\n",
      "{'classifier__clf__C': 1000000.0, 'classifier__clf__gamma': 0.0001, 'classifier__reduce_dim__n_components': 25}\n",
      "test score: 0.6992248062015504\n",
      "{'classifier__clf__C': 10000000.0, 'classifier__clf__gamma': 0.0001, 'classifier__reduce_dim__n_components': 25}\n",
      "test score: 0.6589147286821705\n",
      "{'classifier__clf__C': 10000000.0, 'classifier__clf__gamma': 0.0001, 'classifier__reduce_dim__n_components': 25}\n",
      "test score: 0.6702842377260982\n",
      "test accuracy: 0.672 +/- 0.014\n"
     ]
    }
   ],
   "source": [
    "test_scores_svc = []\n",
    "for i in range(5):\n",
    "    random_state = (i + 1) * 42\n",
    "    X_other, X_test, y_other, y_test, kf, preprocessor = preprocess_with_impute(X,y,random_state = random_state,n_folds=4)\n",
    "    grid, test_score = ML_pipeline_svc_GridSearchCV(X_other, X_test, y_other, y_test, kf, preprocessor, random_state)\n",
    "    print(grid.best_params_)\n",
    "    print('test score:',test_score)\n",
    "    test_scores_svc.append(test_score)\n",
    "print('test accuracy:',np.around(np.mean(test_scores_svc),3),'+/-',np.around(np.std(test_scores_svc),3))"
   ]
  },
  {
   "cell_type": "code",
   "execution_count": 13,
   "metadata": {},
   "outputs": [],
   "source": [
    "def ML_pipeline_knn_GridSearchCV(X_other, X_test, y_other, y_test, kf, preprocessor, random_state):\n",
    "    knn = Pipeline(steps=[('preprocessor', preprocessor),\n",
    "                      ('classifier', KNeighborsClassifier())])\n",
    "    param_grid = {'classifier__n_neighbors': [20,25,30,35,40,45]}\n",
    "    grid = GridSearchCV(knn, param_grid=param_grid,scoring = make_scorer(accuracy_score),\n",
    "                    cv=kf, return_train_score = True,iid=True,n_jobs=-1)\n",
    "    grid.fit(X_other, y_other)\n",
    "    return grid, grid.score(X_test, y_test)"
   ]
  },
  {
   "cell_type": "code",
   "execution_count": null,
   "metadata": {},
   "outputs": [],
   "source": [
    "test_scores_knn = []\n",
    "for i in range(8):\n",
    "    random_state = (i + 1) * 42\n",
    "    X_other, X_test, y_other, y_test, kf, preprocessor = preprocess_with_impute(X,y,random_state = random_state,n_folds=5)\n",
    "    grid, test_score = ML_pipeline_knn_GridSearchCV(X_other, X_test, y_other, y_test, kf, preprocessor, random_state)\n",
    "    print(grid.best_params_)\n",
    "    print('test score:',test_score)\n",
    "    test_scores_knn.append(test_score)\n",
    "print('test accuracy:',np.around(np.mean(test_scores_knn),3),'+/-',np.around(np.std(test_scores_knn),3))"
   ]
  },
  {
   "cell_type": "code",
   "execution_count": 14,
   "metadata": {},
   "outputs": [],
   "source": [
    "def ML_pipeline_xgb_GridSearchCV(X, y, random_state, n_folds):\n",
    "    X_other, X_test, y_other, y_test = train_test_split(X, y, test_size=0.2, random_state = random_state,stratify=y)\n",
    "    kf = StratifiedKFold(n_splits=5,shuffle=True,random_state = random_state)\n",
    "    standard_transformer = Pipeline(steps=[('standard', StandardScaler())])\n",
    "    onehot_transformer = Pipeline(steps=[('onehot', OneHotEncoder(sparse=False,handle_unknown='ignore'))])\n",
    "    ordinal_transformer1 = Pipeline(steps=[('ordinal1', OrdinalEncoder(categories = [['Free','Paid']]))])\n",
    "    ordinal_transformer2 = Pipeline(steps=[('ordinal2', OrdinalEncoder(categories = [['Everyone', 'Everyone 10+', 'Teen', 'Mature 17+', 'Adults only 18+','Unrated']]))])                              \n",
    "    XGB = xgboost.XGBClassifier()\n",
    "    preprocessor = ColumnTransformer(\n",
    "    transformers=[\n",
    "        ('standard', standard_transformer, cont_frs),\n",
    "        ('ordinal1',ordinal_transformer1,['Type']),\n",
    "        ('ordinal2',ordinal_transformer2,['Content Rating']),\n",
    "        ('onehot', onehot_transformer, cat_frs_onehot)])\n",
    "\n",
    "    param_grid = {'classifier__learning_rate': [0.03],\n",
    "              'classifier__n_estimators': [100],\n",
    "              'classifier__random_state': [random_state],\n",
    "              'classifier__missing': [np.nan], \n",
    "              'classifier__max_depth': [20,30,40,50],\n",
    "              'classifier__colsample_bytree': [0.75],              \n",
    "              'classifier__subsample': [0.66]}\n",
    "\n",
    "    xgb = Pipeline(steps=[('preprocessor', preprocessor),\n",
    "                      ('classifier', XGB)])\n",
    "\n",
    "    grid = GridSearchCV(xgb, param_grid=param_grid,scoring = make_scorer(accuracy_score),\n",
    "                    cv=kf, return_train_score = True,iid=True,n_jobs=-1)\n",
    "    grid.fit(X_other, y_other)\n",
    "    return grid, grid.score(X_test, y_test)"
   ]
  },
  {
   "cell_type": "code",
   "execution_count": 17,
   "metadata": {},
   "outputs": [
    {
     "name": "stdout",
     "output_type": "stream",
     "text": [
      "{'classifier__colsample_bytree': 0.75, 'classifier__learning_rate': 0.03, 'classifier__max_depth': 50, 'classifier__missing': nan, 'classifier__n_estimators': 100, 'classifier__random_state': 42, 'classifier__subsample': 0.66}\n",
      "test score: 0.8542635658914729\n",
      "{'classifier__colsample_bytree': 0.75, 'classifier__learning_rate': 0.03, 'classifier__max_depth': 30, 'classifier__missing': nan, 'classifier__n_estimators': 100, 'classifier__random_state': 84, 'classifier__subsample': 0.66}\n",
      "test score: 0.8630490956072352\n",
      "{'classifier__colsample_bytree': 0.75, 'classifier__learning_rate': 0.03, 'classifier__max_depth': 20, 'classifier__missing': nan, 'classifier__n_estimators': 100, 'classifier__random_state': 126, 'classifier__subsample': 0.66}\n",
      "test score: 0.8583979328165374\n",
      "{'classifier__colsample_bytree': 0.75, 'classifier__learning_rate': 0.03, 'classifier__max_depth': 40, 'classifier__missing': nan, 'classifier__n_estimators': 100, 'classifier__random_state': 168, 'classifier__subsample': 0.66}\n",
      "test score: 0.8573643410852713\n",
      "{'classifier__colsample_bytree': 0.75, 'classifier__learning_rate': 0.03, 'classifier__max_depth': 20, 'classifier__missing': nan, 'classifier__n_estimators': 100, 'classifier__random_state': 210, 'classifier__subsample': 0.66}\n",
      "test score: 0.8578811369509044\n",
      "{'classifier__colsample_bytree': 0.75, 'classifier__learning_rate': 0.03, 'classifier__max_depth': 30, 'classifier__missing': nan, 'classifier__n_estimators': 100, 'classifier__random_state': 252, 'classifier__subsample': 0.66}\n",
      "test score: 0.8568475452196382\n",
      "{'classifier__colsample_bytree': 0.75, 'classifier__learning_rate': 0.03, 'classifier__max_depth': 40, 'classifier__missing': nan, 'classifier__n_estimators': 100, 'classifier__random_state': 294, 'classifier__subsample': 0.66}\n",
      "test score: 0.8558139534883721\n",
      "{'classifier__colsample_bytree': 0.75, 'classifier__learning_rate': 0.03, 'classifier__max_depth': 30, 'classifier__missing': nan, 'classifier__n_estimators': 100, 'classifier__random_state': 336, 'classifier__subsample': 0.66}\n",
      "test score: 0.8599483204134367\n",
      "test accuracy: 0.858 +/- 0.002\n"
     ]
    }
   ],
   "source": [
    "test_scores_xgb = []\n",
    "for i in range(8):\n",
    "    random_state = (i + 1) * 42\n",
    "    grid, test_score = ML_pipeline_xgb_GridSearchCV(X, y, random_state, 5)\n",
    "    print(grid.best_params_)\n",
    "    print('test score:',test_score)\n",
    "    test_scores_xgb.append(test_score)\n",
    "print('test accuracy:',np.around(np.mean(test_scores_xgb),3),'+/-',np.around(np.std(test_scores_xgb),3))"
   ]
  }
 ],
 "metadata": {
  "jupytext": {
   "formats": "ipynb,md"
  },
  "kernelspec": {
   "display_name": "Python 3",
   "language": "python",
   "name": "python3"
  },
  "language_info": {
   "codemirror_mode": {
    "name": "ipython",
    "version": 3
   },
   "file_extension": ".py",
   "mimetype": "text/x-python",
   "name": "python",
   "nbconvert_exporter": "python",
   "pygments_lexer": "ipython3",
   "version": "3.7.3"
  }
 },
 "nbformat": 4,
 "nbformat_minor": 4
}
