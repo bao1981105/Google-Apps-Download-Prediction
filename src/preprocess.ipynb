{
 "cells": [
  {
   "cell_type": "code",
   "execution_count": 75,
   "metadata": {},
   "outputs": [],
   "source": [
    "import pandas as pd\n",
    "import numpy as np"
   ]
  },
  {
   "cell_type": "code",
   "execution_count": 76,
   "metadata": {},
   "outputs": [],
   "source": [
    "df = pd.read_csv('../data/googleplaystore.csv')\n",
    "df['Genres'] = df.Genres.str.split(';')"
   ]
  },
  {
   "cell_type": "code",
   "execution_count": 77,
   "metadata": {},
   "outputs": [],
   "source": [
    "genres = [\"Action\",\"Action & Adventure\",\"Adventure\",\"Art & Design\",\"Arcade\",\"Auto & Vehicles\",\"Beauty\",\"Board\",\"Books & Reference\",\"Brain Games\",\"Business\",\"Card\",\"Casino\",\"Casual\",\"Comics\",\"Communication\",\"Creativity\",\"Dating\",\"Education\",\"Educational\",\"Entertainment\",\"Events\",\"Finance\",\"Food & Drink\",\"Health & Fitness\",\"House & Home\",\"Libraries & Demo\",\"Lifestyle\",\"Maps & Navigation\",\"Medical\",\"Music\",\"Music & Audio\",\"Music & Video\",\"News & Magazines\",\"Parenting\",\"Personalization\",\"Photography\",\"Pretend Play\",\"Productivity\",\"Puzzle\",\"Racing\",\"Role Playing\",\"Shopping\",\"Simulation\",\"Social\",\"Sports\",\"Strategy\",\"Tools\",\"Travel & Local\",\"Trivia\",\"Video Players & Editors\",\"Weather\",\"Word\"]\n",
    "def generate_lst(genre):\n",
    "    lst_temp = []\n",
    "    for i in range(len(df)):\n",
    "        if genre in df.Genres[i]:\n",
    "            lst_temp.append(1)\n",
    "        else:\n",
    "            lst_temp.append(0)\n",
    "    return lst_temp\n",
    "d = {genre: generate_lst(genre) for genre in genres}\n",
    "transfored_genres = pd.DataFrame(d)\n",
    "df = pd.concat([df,transfored_genres],axis=1)"
   ]
  },
  {
   "cell_type": "code",
   "execution_count": 78,
   "metadata": {},
   "outputs": [],
   "source": [
    "from sklearn.preprocessing import OneHotEncoder\n",
    "from sklearn.preprocessing import OrdinalEncoder\n",
    "from sklearn.model_selection import train_test_split\n",
    "from sklearn.preprocessing import LabelEncoder\n",
    "from sklearn.preprocessing import StandardScaler\n",
    "from sklearn.preprocessing import MinMaxScaler"
   ]
  },
  {
   "cell_type": "code",
   "execution_count": 79,
   "metadata": {},
   "outputs": [],
   "source": [
    "#unique, counts = np.unique(df.Genres.values, return_counts=True)\n",
    "X = df.drop('Installs', axis=1)\n",
    "y = df[['Installs']]\n",
    "xTrain, xTest, yTrain, yTest = train_test_split(X, y, test_size = 0.2, random_state = 42)"
   ]
  },
  {
   "cell_type": "code",
   "execution_count": 80,
   "metadata": {},
   "outputs": [
    {
     "name": "stderr",
     "output_type": "stream",
     "text": [
      "/opt/conda/lib/python3.7/site-packages/ipykernel_launcher.py:4: SettingWithCopyWarning: \n",
      "A value is trying to be set on a copy of a slice from a DataFrame.\n",
      "Try using .loc[row_indexer,col_indexer] = value instead\n",
      "\n",
      "See the caveats in the documentation: http://pandas.pydata.org/pandas-docs/stable/user_guide/indexing.html#returning-a-view-versus-a-copy\n",
      "  after removing the cwd from sys.path.\n"
     ]
    }
   ],
   "source": [
    "enc = OneHotEncoder(sparse=False)\n",
    "category = enc.fit_transform(xTrain[['Category']])\n",
    "category = pd.DataFrame(category, columns = enc.get_feature_names())\n",
    "xTrain['Category'] = category"
   ]
  },
  {
   "cell_type": "code",
   "execution_count": 81,
   "metadata": {},
   "outputs": [],
   "source": [
    "enc = OrdinalEncoder(categories = [['Everyone', 'Everyone 10+', 'Teen', 'Mature 17+', 'Adults only 18+','Unrated']])\n",
    "content_rating = pd.DataFrame(enc.fit_transform(xTrain[['Content Rating']]),columns=['Content Rating'])\n",
    "# enc = OrdinalEncoder(categories = [['Free', 'Paid']])\n",
    "# Type = pd.DataFrame(enc.fit_transform(xTrain[['Type']]),columns=['Type'])\n",
    "# Type"
   ]
  },
  {
   "cell_type": "code",
   "execution_count": 82,
   "metadata": {},
   "outputs": [],
   "source": [
    "scaler = MinMaxScaler()\n",
    "scaled_rating = scaler.fit_transform(pd.DataFrame(xTrain['Rating']))\n",
    "scaled_rating = pd.DataFrame(scaled_rating,columns=['Rating'])"
   ]
  },
  {
   "cell_type": "code",
   "execution_count": 83,
   "metadata": {},
   "outputs": [],
   "source": [
    "scaler = StandardScaler()\n",
    "scaled_reviews = scaler.fit_transform(pd.DataFrame(xTrain['Reviews']))\n",
    "scaled_reviews = pd.DataFrame(scaled_reviews,columns=['Number of Reviews'])"
   ]
  },
  {
   "cell_type": "code",
   "execution_count": 84,
   "metadata": {},
   "outputs": [],
   "source": [
    "le = LabelEncoder()\n",
    "transfored_target = pd.DataFrame(le.fit_transform(yTrain['Installs']),columns=['Number of Installs'])\n",
    "#transfored_target"
   ]
  },
  {
   "cell_type": "code",
   "execution_count": 87,
   "metadata": {},
   "outputs": [],
   "source": [
    "dropped = xTrain.drop(['Category','Genres','Content Rating','Rating','Reviews'],axis=1)\n",
    "dropped = dropped.reset_index()\n",
    "xTrain_concat = pd.concat([dropped, category,content_rating,scaled_rating,scaled_reviews],axis = 1)"
   ]
  },
  {
   "cell_type": "code",
   "execution_count": 88,
   "metadata": {},
   "outputs": [],
   "source": [
    "#newdf.to_excel('train_set.xlsx', sheet_name='sheet1', index=False)\n",
    "temp = yTrain.reset_index()\n",
    "yTrain_concat = pd.concat([temp,transfored_target],axis=1)"
   ]
  },
  {
   "cell_type": "code",
   "execution_count": 89,
   "metadata": {},
   "outputs": [],
   "source": [
    "xTrain_concat.to_excel('xTrain_transformed.xlsx', sheet_name='sheet1', index=False)"
   ]
  },
  {
   "cell_type": "code",
   "execution_count": 90,
   "metadata": {},
   "outputs": [],
   "source": [
    "yTrain_concat.to_excel('yTrain_transformed.xlsx', sheet_name='sheet1', index=False)"
   ]
  },
  {
   "cell_type": "code",
   "execution_count": null,
   "metadata": {},
   "outputs": [],
   "source": []
  }
 ],
 "metadata": {
  "kernelspec": {
   "display_name": "Python 3",
   "language": "python",
   "name": "python3"
  },
  "language_info": {
   "codemirror_mode": {
    "name": "ipython",
    "version": 3
   },
   "file_extension": ".py",
   "mimetype": "text/x-python",
   "name": "python",
   "nbconvert_exporter": "python",
   "pygments_lexer": "ipython3",
   "version": "3.7.3"
  }
 },
 "nbformat": 4,
 "nbformat_minor": 4
}
